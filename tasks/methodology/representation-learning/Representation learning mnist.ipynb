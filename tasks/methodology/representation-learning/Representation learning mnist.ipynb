{
 "cells": [
  {
   "cell_type": "code",
   "execution_count": 26,
   "metadata": {},
   "outputs": [],
   "source": [
    "import numpy as np\n",
    "import matplotlib.pyplot as plt\n",
    "from sklearn.pipeline import Pipeline\n",
    "from sklearn.base import clone\n",
    "from scipy.ndimage import convolve\n",
    "from sklearn import linear_model, svm, datasets, metrics\n",
    "from sklearn.neural_network import BernoulliRBM\n",
    "from sklearn.model_selection import train_test_split\n"
   ]
  },
  {
   "cell_type": "code",
   "execution_count": 27,
   "metadata": {},
   "outputs": [],
   "source": [
    "\n",
    "def nudge_dataset(X, Y):\n",
    "    \"\"\"\n",
    "    This produces a dataset 5 times bigger than the original one,\n",
    "    by moving the 8x8 images in X around by 1px to left, right, down, up\n",
    "    \"\"\"\n",
    "    direction_vectors = [\n",
    "        [[1, 0, 0],\n",
    "         [0, 0, 0],\n",
    "         [0, 0, 0]],\n",
    "\n",
    "        [[0, 0, 0],\n",
    "         [1, 0, 0],\n",
    "         [0, 0, 0]],\n",
    "\n",
    "        [[0, 0, 0],\n",
    "         [0, 0, 1],\n",
    "         [0, 0, 0]],\n",
    "\n",
    "        [[0, 0, 0],\n",
    "         [0, 0, 0],\n",
    "         [0, 1, 0]]]\n",
    "\n",
    "    def shift(x, w):\n",
    "        return convolve(x.reshape((8, 8)), mode='constant', weights=w).ravel()\n",
    "\n",
    "    X = np.concatenate([X] +\n",
    "                       [np.apply_along_axis(shift, 1, X, vector)\n",
    "                        for vector in direction_vectors])\n",
    "    Y = np.concatenate([Y for _ in range(5)], axis=0)\n",
    "    return X, Y\n"
   ]
  },
  {
   "cell_type": "code",
   "execution_count": 28,
   "metadata": {},
   "outputs": [],
   "source": [
    "digits = datasets.load_digits()\n",
    "X = np.asarray(digits.data, 'float32')\n",
    "X, Y = nudge_dataset(X, digits.target)\n",
    "X = (X - np.min(X, 0)) / (np.max(X, 0) + 0.0001)"
   ]
  },
  {
   "cell_type": "code",
   "execution_count": 29,
   "metadata": {},
   "outputs": [],
   "source": [
    "X_train, X_test, Y_train, Y_test = train_test_split(\n",
    "    X, Y, test_size=0.2, random_state=0)"
   ]
  },
  {
   "cell_type": "code",
   "execution_count": 30,
   "metadata": {},
   "outputs": [],
   "source": [
    "\"\"\"\n",
    "Restricted Boltzmann machine as feature encoder for logistic regression\n",
    "\"\"\"\n",
    "logistic = linear_model.LogisticRegression(solver='newton-cg', tol=1,\n",
    "                                           multi_class='multinomial')\n",
    "rbm = BernoulliRBM(random_state=0, verbose=True)"
   ]
  },
  {
   "cell_type": "code",
   "execution_count": 31,
   "metadata": {},
   "outputs": [],
   "source": [
    "rbm_features_classifier = Pipeline(\n",
    "    steps=[('rbm', rbm), ('logistic', logistic)])"
   ]
  },
  {
   "cell_type": "code",
   "execution_count": 47,
   "metadata": {},
   "outputs": [],
   "source": [
    "rbm.learning_rate = 0.06\n",
    "rbm.n_iter = 40\n",
    "# More components tend to give better prediction performance, but larger\n",
    "# fitting time\n",
    "rbm.n_components = 100\n",
    "logistic.C = 6000\n"
   ]
  },
  {
   "cell_type": "code",
   "execution_count": 48,
   "metadata": {},
   "outputs": [
    {
     "name": "stdout",
     "output_type": "stream",
     "text": [
      "[BernoulliRBM] Iteration 1, pseudo-likelihood = -25.46, time = 0.20s\n",
      "[BernoulliRBM] Iteration 2, pseudo-likelihood = -24.20, time = 0.28s\n",
      "[BernoulliRBM] Iteration 3, pseudo-likelihood = -23.09, time = 0.26s\n",
      "[BernoulliRBM] Iteration 4, pseudo-likelihood = -22.01, time = 0.29s\n",
      "[BernoulliRBM] Iteration 5, pseudo-likelihood = -21.59, time = 0.30s\n",
      "[BernoulliRBM] Iteration 6, pseudo-likelihood = -21.19, time = 0.27s\n",
      "[BernoulliRBM] Iteration 7, pseudo-likelihood = -20.72, time = 0.27s\n",
      "[BernoulliRBM] Iteration 8, pseudo-likelihood = -20.58, time = 0.27s\n",
      "[BernoulliRBM] Iteration 9, pseudo-likelihood = -20.66, time = 0.27s\n",
      "[BernoulliRBM] Iteration 10, pseudo-likelihood = -20.19, time = 0.26s\n",
      "[BernoulliRBM] Iteration 11, pseudo-likelihood = -20.03, time = 0.28s\n",
      "[BernoulliRBM] Iteration 12, pseudo-likelihood = -19.94, time = 0.26s\n",
      "[BernoulliRBM] Iteration 13, pseudo-likelihood = -19.77, time = 0.32s\n",
      "[BernoulliRBM] Iteration 14, pseudo-likelihood = -19.70, time = 0.29s\n",
      "[BernoulliRBM] Iteration 15, pseudo-likelihood = -19.64, time = 0.31s\n",
      "[BernoulliRBM] Iteration 16, pseudo-likelihood = -19.34, time = 0.27s\n",
      "[BernoulliRBM] Iteration 17, pseudo-likelihood = -19.43, time = 0.27s\n",
      "[BernoulliRBM] Iteration 18, pseudo-likelihood = -19.16, time = 0.27s\n",
      "[BernoulliRBM] Iteration 19, pseudo-likelihood = -19.07, time = 0.31s\n",
      "[BernoulliRBM] Iteration 20, pseudo-likelihood = -19.20, time = 0.31s\n",
      "[BernoulliRBM] Iteration 21, pseudo-likelihood = -19.05, time = 0.26s\n",
      "[BernoulliRBM] Iteration 22, pseudo-likelihood = -18.88, time = 0.26s\n",
      "[BernoulliRBM] Iteration 23, pseudo-likelihood = -18.99, time = 0.27s\n",
      "[BernoulliRBM] Iteration 24, pseudo-likelihood = -18.92, time = 0.28s\n",
      "[BernoulliRBM] Iteration 25, pseudo-likelihood = -18.98, time = 0.34s\n",
      "[BernoulliRBM] Iteration 26, pseudo-likelihood = -18.79, time = 0.26s\n",
      "[BernoulliRBM] Iteration 27, pseudo-likelihood = -18.84, time = 0.26s\n",
      "[BernoulliRBM] Iteration 28, pseudo-likelihood = -18.78, time = 0.36s\n",
      "[BernoulliRBM] Iteration 29, pseudo-likelihood = -18.69, time = 0.25s\n",
      "[BernoulliRBM] Iteration 30, pseudo-likelihood = -18.74, time = 0.31s\n",
      "[BernoulliRBM] Iteration 31, pseudo-likelihood = -18.73, time = 0.26s\n",
      "[BernoulliRBM] Iteration 32, pseudo-likelihood = -18.59, time = 0.26s\n",
      "[BernoulliRBM] Iteration 33, pseudo-likelihood = -18.54, time = 0.34s\n",
      "[BernoulliRBM] Iteration 34, pseudo-likelihood = -18.44, time = 0.26s\n",
      "[BernoulliRBM] Iteration 35, pseudo-likelihood = -18.49, time = 0.25s\n",
      "[BernoulliRBM] Iteration 36, pseudo-likelihood = -18.59, time = 0.28s\n",
      "[BernoulliRBM] Iteration 37, pseudo-likelihood = -18.55, time = 0.29s\n",
      "[BernoulliRBM] Iteration 38, pseudo-likelihood = -18.23, time = 0.32s\n",
      "[BernoulliRBM] Iteration 39, pseudo-likelihood = -18.32, time = 0.39s\n",
      "[BernoulliRBM] Iteration 40, pseudo-likelihood = -18.43, time = 0.36s\n"
     ]
    },
    {
     "data": {
      "text/plain": [
       "LogisticRegression(C=100.0, class_weight=None, dual=False, fit_intercept=True,\n",
       "          intercept_scaling=1, max_iter=100, multi_class='multinomial',\n",
       "          n_jobs=1, penalty='l2', random_state=None, solver='newton-cg',\n",
       "          tol=1, verbose=0, warm_start=False)"
      ]
     },
     "execution_count": 48,
     "metadata": {},
     "output_type": "execute_result"
    }
   ],
   "source": [
    "# Training RBM-Logistic Pipeline\n",
    "rbm_features_classifier.fit(X_train, Y_train)\n",
    "\n",
    "# Training the Logistic regression classifier directly on the pixel\n",
    "raw_pixel_classifier = clone(logistic)\n",
    "raw_pixel_classifier.C = 100.\n",
    "raw_pixel_classifier.fit(X_train, Y_train)\n"
   ]
  },
  {
   "cell_type": "code",
   "execution_count": 49,
   "metadata": {},
   "outputs": [
    {
     "name": "stdout",
     "output_type": "stream",
     "text": [
      "Logistic regression using RBM features:\n",
      "             precision    recall  f1-score   support\n",
      "\n",
      "          0       0.99      0.98      0.99       174\n",
      "          1       0.91      0.92      0.92       184\n",
      "          2       0.92      0.96      0.94       166\n",
      "          3       0.92      0.84      0.88       194\n",
      "          4       0.95      0.97      0.96       186\n",
      "          5       0.91      0.93      0.92       181\n",
      "          6       0.98      0.98      0.98       207\n",
      "          7       0.97      0.96      0.97       154\n",
      "          8       0.84      0.90      0.87       182\n",
      "          9       0.88      0.85      0.86       169\n",
      "\n",
      "avg / total       0.93      0.93      0.93      1797\n",
      "\n",
      "\n",
      "Logistic regression using raw pixel features:\n",
      "             precision    recall  f1-score   support\n",
      "\n",
      "          0       0.91      0.94      0.92       174\n",
      "          1       0.69      0.74      0.72       184\n",
      "          2       0.83      0.88      0.86       166\n",
      "          3       0.81      0.78      0.80       194\n",
      "          4       0.84      0.81      0.83       186\n",
      "          5       0.76      0.83      0.80       181\n",
      "          6       0.95      0.91      0.93       207\n",
      "          7       0.85      0.91      0.88       154\n",
      "          8       0.80      0.66      0.72       182\n",
      "          9       0.77      0.76      0.76       169\n",
      "\n",
      "avg / total       0.82      0.82      0.82      1797\n",
      "\n",
      "\n"
     ]
    }
   ],
   "source": [
    "Y_pred = rbm_features_classifier.predict(X_test)\n",
    "print(\"Logistic regression using RBM features:\\n%s\\n\" % (\n",
    "    metrics.classification_report(Y_test, Y_pred)))\n",
    "\n",
    "Y_pred = raw_pixel_classifier.predict(X_test)\n",
    "print(\"Logistic regression using raw pixel features:\\n%s\\n\" % (\n",
    "    metrics.classification_report(Y_test, Y_pred)))\n"
   ]
  },
  {
   "cell_type": "code",
   "execution_count": 50,
   "metadata": {},
   "outputs": [
    {
     "data": {
      "image/png": "[encoded data removed]",
      "text/plain": [
       "<Figure size 1152x1152 with 100 Axes>"
      ]
     },
     "metadata": {},
     "output_type": "display_data"
    }
   ],
   "source": [
    "plt.figure(figsize=(16, 16))\n",
    "for i, comp in enumerate(rbm.components_):\n",
    "    plt.subplot(10,10, i + 1)\n",
    "    plt.imshow(comp.reshape((8, 8)), cmap=plt.cm.gray_r,\n",
    "               interpolation='nearest')\n",
    "    plt.xticks(())\n",
    "    plt.yticks(())\n",
    "plt.suptitle('100 components extracted by RBM', fontsize=16)\n",
    "plt.subplots_adjust(0.08, 0.02, 0.92, 0.85, 0.08, 0.23)\n",
    "\n",
    "plt.show()\n"
   ]
  },
  {
   "cell_type": "code",
   "execution_count": 51,
   "metadata": {},
   "outputs": [],
   "source": [
    "from sklearn.svm import LinearSVC\n",
    "lsvm = LinearSVC()"
   ]
  },
  {
   "cell_type": "code",
   "execution_count": 52,
   "metadata": {},
   "outputs": [],
   "source": [
    "rbm_features_lsvm_classifier = Pipeline(\n",
    "    steps=[('rbm', rbm), ('lsvm', lsvm)])"
   ]
  },
  {
   "cell_type": "code",
   "execution_count": 53,
   "metadata": {},
   "outputs": [
    {
     "name": "stdout",
     "output_type": "stream",
     "text": [
      "[BernoulliRBM] Iteration 1, pseudo-likelihood = -25.46, time = 0.19s\n",
      "[BernoulliRBM] Iteration 2, pseudo-likelihood = -24.20, time = 0.33s\n",
      "[BernoulliRBM] Iteration 3, pseudo-likelihood = -23.09, time = 0.30s\n",
      "[BernoulliRBM] Iteration 4, pseudo-likelihood = -22.01, time = 0.31s\n",
      "[BernoulliRBM] Iteration 5, pseudo-likelihood = -21.59, time = 0.27s\n",
      "[BernoulliRBM] Iteration 6, pseudo-likelihood = -21.19, time = 0.30s\n",
      "[BernoulliRBM] Iteration 7, pseudo-likelihood = -20.72, time = 0.33s\n",
      "[BernoulliRBM] Iteration 8, pseudo-likelihood = -20.58, time = 0.33s\n",
      "[BernoulliRBM] Iteration 9, pseudo-likelihood = -20.66, time = 0.28s\n",
      "[BernoulliRBM] Iteration 10, pseudo-likelihood = -20.19, time = 0.29s\n",
      "[BernoulliRBM] Iteration 11, pseudo-likelihood = -20.03, time = 0.28s\n",
      "[BernoulliRBM] Iteration 12, pseudo-likelihood = -19.94, time = 0.34s\n",
      "[BernoulliRBM] Iteration 13, pseudo-likelihood = -19.77, time = 0.28s\n",
      "[BernoulliRBM] Iteration 14, pseudo-likelihood = -19.70, time = 0.26s\n",
      "[BernoulliRBM] Iteration 15, pseudo-likelihood = -19.64, time = 0.27s\n",
      "[BernoulliRBM] Iteration 16, pseudo-likelihood = -19.34, time = 0.26s\n",
      "[BernoulliRBM] Iteration 17, pseudo-likelihood = -19.43, time = 0.25s\n",
      "[BernoulliRBM] Iteration 18, pseudo-likelihood = -19.16, time = 0.25s\n",
      "[BernoulliRBM] Iteration 19, pseudo-likelihood = -19.07, time = 0.26s\n",
      "[BernoulliRBM] Iteration 20, pseudo-likelihood = -19.20, time = 0.25s\n",
      "[BernoulliRBM] Iteration 21, pseudo-likelihood = -19.05, time = 0.26s\n",
      "[BernoulliRBM] Iteration 22, pseudo-likelihood = -18.88, time = 0.25s\n",
      "[BernoulliRBM] Iteration 23, pseudo-likelihood = -18.99, time = 0.26s\n",
      "[BernoulliRBM] Iteration 24, pseudo-likelihood = -18.92, time = 0.25s\n",
      "[BernoulliRBM] Iteration 25, pseudo-likelihood = -18.98, time = 0.26s\n",
      "[BernoulliRBM] Iteration 26, pseudo-likelihood = -18.79, time = 0.26s\n",
      "[BernoulliRBM] Iteration 27, pseudo-likelihood = -18.84, time = 0.26s\n",
      "[BernoulliRBM] Iteration 28, pseudo-likelihood = -18.78, time = 0.26s\n",
      "[BernoulliRBM] Iteration 29, pseudo-likelihood = -18.69, time = 0.25s\n",
      "[BernoulliRBM] Iteration 30, pseudo-likelihood = -18.74, time = 0.26s\n",
      "[BernoulliRBM] Iteration 31, pseudo-likelihood = -18.73, time = 0.26s\n",
      "[BernoulliRBM] Iteration 32, pseudo-likelihood = -18.59, time = 0.26s\n",
      "[BernoulliRBM] Iteration 33, pseudo-likelihood = -18.54, time = 0.29s\n",
      "[BernoulliRBM] Iteration 34, pseudo-likelihood = -18.44, time = 0.25s\n",
      "[BernoulliRBM] Iteration 35, pseudo-likelihood = -18.49, time = 0.25s\n",
      "[BernoulliRBM] Iteration 36, pseudo-likelihood = -18.59, time = 0.26s\n",
      "[BernoulliRBM] Iteration 37, pseudo-likelihood = -18.55, time = 0.26s\n",
      "[BernoulliRBM] Iteration 38, pseudo-likelihood = -18.23, time = 0.25s\n",
      "[BernoulliRBM] Iteration 39, pseudo-likelihood = -18.32, time = 0.25s\n",
      "[BernoulliRBM] Iteration 40, pseudo-likelihood = -18.43, time = 0.25s\n",
      "linear SVM using RBM features:\n",
      "             precision    recall  f1-score   support\n",
      "\n",
      "          0       1.00      0.98      0.99       174\n",
      "          1       0.88      0.91      0.89       184\n",
      "          2       0.96      0.96      0.96       166\n",
      "          3       0.91      0.81      0.86       194\n",
      "          4       0.96      0.93      0.95       186\n",
      "          5       0.88      0.91      0.89       181\n",
      "          6       0.98      0.98      0.98       207\n",
      "          7       0.91      0.94      0.93       154\n",
      "          8       0.75      0.88      0.81       182\n",
      "          9       0.85      0.76      0.80       169\n",
      "\n",
      "avg / total       0.91      0.91      0.91      1797\n",
      "\n",
      "\n",
      "linear SVM:\n",
      "             precision    recall  f1-score   support\n",
      "\n",
      "          0       0.84      0.94      0.89       174\n",
      "          1       0.66      0.70      0.68       184\n",
      "          2       0.76      0.88      0.82       166\n",
      "          3       0.80      0.75      0.77       194\n",
      "          4       0.88      0.80      0.84       186\n",
      "          5       0.75      0.83      0.79       181\n",
      "          6       0.94      0.90      0.92       207\n",
      "          7       0.83      0.90      0.86       154\n",
      "          8       0.77      0.58      0.66       182\n",
      "          9       0.73      0.70      0.72       169\n",
      "\n",
      "avg / total       0.80      0.80      0.80      1797\n",
      "\n",
      "\n"
     ]
    }
   ],
   "source": [
    "rbm_features_lsvm_classifier.fit(X_train, Y_train)\n",
    "\n",
    "Y_pred = rbm_features_lsvm_classifier.predict(X_test)\n",
    "print(\"linear SVM using RBM features:\\n%s\\n\" % (\n",
    "    metrics.classification_report(Y_test, Y_pred)))\n",
    "lsvm.fit(X_train, Y_train)\n",
    "Y_pred = lsvm.predict(X_test)\n",
    "\n",
    "print(\"linear SVM:\\n%s\\n\" % (\n",
    "    metrics.classification_report(Y_test, Y_pred)))"
   ]
  },
  {
   "cell_type": "code",
   "execution_count": 176,
   "metadata": {},
   "outputs": [],
   "source": [
    "from sklearn.neural_network import MLPClassifier\n",
    "mlp = MLPClassifier(solver='lbfgs', alpha=1e-5, hidden_layer_sizes=(20, 8), random_state=1)\n",
    "rbm_features_mlp_classifier = Pipeline(\n",
    "    steps=[('rbm', rbm), ('mlp', mlp)])"
   ]
  },
  {
   "cell_type": "code",
   "execution_count": 177,
   "metadata": {},
   "outputs": [
    {
     "name": "stdout",
     "output_type": "stream",
     "text": [
      "[BernoulliRBM] Iteration 1, pseudo-likelihood = -25.46, time = 0.21s\n",
      "[BernoulliRBM] Iteration 2, pseudo-likelihood = -24.20, time = 0.27s\n",
      "[BernoulliRBM] Iteration 3, pseudo-likelihood = -23.09, time = 0.26s\n",
      "[BernoulliRBM] Iteration 4, pseudo-likelihood = -22.01, time = 0.26s\n",
      "[BernoulliRBM] Iteration 5, pseudo-likelihood = -21.59, time = 0.26s\n",
      "[BernoulliRBM] Iteration 6, pseudo-likelihood = -21.19, time = 0.28s\n",
      "[BernoulliRBM] Iteration 7, pseudo-likelihood = -20.72, time = 0.26s\n",
      "[BernoulliRBM] Iteration 8, pseudo-likelihood = -20.58, time = 0.30s\n",
      "[BernoulliRBM] Iteration 9, pseudo-likelihood = -20.66, time = 0.26s\n",
      "[BernoulliRBM] Iteration 10, pseudo-likelihood = -20.19, time = 0.27s\n",
      "[BernoulliRBM] Iteration 11, pseudo-likelihood = -20.03, time = 0.26s\n",
      "[BernoulliRBM] Iteration 12, pseudo-likelihood = -19.94, time = 0.28s\n",
      "[BernoulliRBM] Iteration 13, pseudo-likelihood = -19.77, time = 0.25s\n",
      "[BernoulliRBM] Iteration 14, pseudo-likelihood = -19.70, time = 0.26s\n",
      "[BernoulliRBM] Iteration 15, pseudo-likelihood = -19.64, time = 0.26s\n",
      "[BernoulliRBM] Iteration 16, pseudo-likelihood = -19.34, time = 0.25s\n",
      "[BernoulliRBM] Iteration 17, pseudo-likelihood = -19.43, time = 0.27s\n",
      "[BernoulliRBM] Iteration 18, pseudo-likelihood = -19.16, time = 0.25s\n",
      "[BernoulliRBM] Iteration 19, pseudo-likelihood = -19.07, time = 0.25s\n",
      "[BernoulliRBM] Iteration 20, pseudo-likelihood = -19.20, time = 0.25s\n",
      "[BernoulliRBM] Iteration 21, pseudo-likelihood = -19.05, time = 0.25s\n",
      "[BernoulliRBM] Iteration 22, pseudo-likelihood = -18.88, time = 0.25s\n",
      "[BernoulliRBM] Iteration 23, pseudo-likelihood = -18.99, time = 0.25s\n",
      "[BernoulliRBM] Iteration 24, pseudo-likelihood = -18.92, time = 0.25s\n",
      "[BernoulliRBM] Iteration 25, pseudo-likelihood = -18.98, time = 0.29s\n",
      "[BernoulliRBM] Iteration 26, pseudo-likelihood = -18.79, time = 0.26s\n",
      "[BernoulliRBM] Iteration 27, pseudo-likelihood = -18.84, time = 0.25s\n",
      "[BernoulliRBM] Iteration 28, pseudo-likelihood = -18.78, time = 0.25s\n",
      "[BernoulliRBM] Iteration 29, pseudo-likelihood = -18.69, time = 0.26s\n",
      "[BernoulliRBM] Iteration 30, pseudo-likelihood = -18.74, time = 0.26s\n",
      "[BernoulliRBM] Iteration 31, pseudo-likelihood = -18.73, time = 0.33s\n",
      "[BernoulliRBM] Iteration 32, pseudo-likelihood = -18.59, time = 0.29s\n",
      "[BernoulliRBM] Iteration 33, pseudo-likelihood = -18.54, time = 0.27s\n",
      "[BernoulliRBM] Iteration 34, pseudo-likelihood = -18.44, time = 0.29s\n",
      "[BernoulliRBM] Iteration 35, pseudo-likelihood = -18.49, time = 0.25s\n",
      "[BernoulliRBM] Iteration 36, pseudo-likelihood = -18.59, time = 0.25s\n",
      "[BernoulliRBM] Iteration 37, pseudo-likelihood = -18.55, time = 0.29s\n",
      "[BernoulliRBM] Iteration 38, pseudo-likelihood = -18.23, time = 0.25s\n",
      "[BernoulliRBM] Iteration 39, pseudo-likelihood = -18.32, time = 0.26s\n",
      "[BernoulliRBM] Iteration 40, pseudo-likelihood = -18.43, time = 0.27s\n",
      "MLP using RBM features:\n",
      "             precision    recall  f1-score   support\n",
      "\n",
      "          0       0.98      0.98      0.98       174\n",
      "          1       0.88      0.95      0.91       184\n",
      "          2       0.97      0.93      0.95       166\n",
      "          3       0.93      0.87      0.90       194\n",
      "          4       0.96      0.94      0.95       186\n",
      "          5       0.93      0.92      0.93       181\n",
      "          6       0.98      0.98      0.98       207\n",
      "          7       0.87      0.90      0.89       154\n",
      "          8       0.80      0.85      0.82       182\n",
      "          9       0.83      0.80      0.82       169\n",
      "\n",
      "avg / total       0.91      0.91      0.91      1797\n",
      "\n",
      "\n",
      "MLP:\n",
      "             precision    recall  f1-score   support\n",
      "\n",
      "          0       0.95      0.97      0.96       174\n",
      "          1       0.80      0.78      0.79       184\n",
      "          2       0.85      0.93      0.89       166\n",
      "          3       0.86      0.84      0.85       194\n",
      "          4       0.95      0.90      0.92       186\n",
      "          5       0.65      0.61      0.63       181\n",
      "          6       0.96      0.93      0.95       207\n",
      "          7       0.87      0.90      0.88       154\n",
      "          8       0.70      0.71      0.70       182\n",
      "          9       0.71      0.74      0.73       169\n",
      "\n",
      "avg / total       0.83      0.83      0.83      1797\n",
      "\n",
      "\n"
     ]
    }
   ],
   "source": [
    "rbm_features_mlp_classifier.fit(X_train, Y_train)\n",
    "\n",
    "Y_pred = rbm_features_mlp_classifier.predict(X_test)\n",
    "print(\"MLP using RBM features:\\n%s\\n\" % (\n",
    "    metrics.classification_report(Y_test, Y_pred)))\n",
    "mlp.fit(X_train, Y_train)\n",
    "\n",
    "Y_pred = mlp.predict(X_test)\n",
    "print(\"MLP:\\n%s\\n\" % (\n",
    "    metrics.classification_report(Y_test, Y_pred)))"
   ]
  },
  {
   "cell_type": "code",
   "execution_count": 182,
   "metadata": {},
   "outputs": [],
   "source": [
    "\"Principal Component Analysis for Dimensionality Reduction\"\n",
    "from sklearn.decomposition import PCA\n",
    "pca = PCA(n_components=24)\n",
    "pca_features_mlp_classifier = Pipeline(\n",
    "    steps=[('pca', pca), ('mlp', mlp)])"
   ]
  },
  {
   "cell_type": "code",
   "execution_count": 183,
   "metadata": {
    "scrolled": true
   },
   "outputs": [
    {
     "name": "stdout",
     "output_type": "stream",
     "text": [
      "MLP using PCA features:\n",
      "             precision    recall  f1-score   support\n",
      "\n",
      "          0       0.97      0.96      0.96       174\n",
      "          1       0.92      0.93      0.92       184\n",
      "          2       0.94      0.93      0.94       166\n",
      "          3       0.93      0.90      0.91       194\n",
      "          4       0.93      0.92      0.92       186\n",
      "          5       0.92      0.91      0.92       181\n",
      "          6       0.98      0.97      0.97       207\n",
      "          7       0.92      0.97      0.95       154\n",
      "          8       0.86      0.89      0.88       182\n",
      "          9       0.90      0.88      0.89       169\n",
      "\n",
      "avg / total       0.93      0.93      0.93      1797\n",
      "\n",
      "\n",
      "MLP:\n",
      "             precision    recall  f1-score   support\n",
      "\n",
      "          0       0.95      0.97      0.96       174\n",
      "          1       0.80      0.78      0.79       184\n",
      "          2       0.85      0.93      0.89       166\n",
      "          3       0.86      0.84      0.85       194\n",
      "          4       0.95      0.90      0.92       186\n",
      "          5       0.65      0.61      0.63       181\n",
      "          6       0.96      0.93      0.95       207\n",
      "          7       0.87      0.90      0.88       154\n",
      "          8       0.70      0.71      0.70       182\n",
      "          9       0.71      0.74      0.73       169\n",
      "\n",
      "avg / total       0.83      0.83      0.83      1797\n",
      "\n",
      "\n"
     ]
    }
   ],
   "source": [
    "pca_features_mlp_classifier.fit(X_train, Y_train)\n",
    "\n",
    "Y_pred = pca_features_mlp_classifier.predict(X_test)\n",
    "print(\"MLP using PCA features:\\n%s\\n\" % (\n",
    "    metrics.classification_report(Y_test, Y_pred)))\n",
    "mlp.fit(X_train, Y_train)\n",
    "\n",
    "Y_pred = mlp.predict(X_test)\n",
    "print(\"MLP:\\n%s\\n\" % (\n",
    "    metrics.classification_report(Y_test, Y_pred)))"
   ]
  },
  {
   "cell_type": "code",
   "execution_count": 137,
   "metadata": {},
   "outputs": [],
   "source": [
    "from sklearn.feature_selection import SelectKBest\n",
    "kbest=SelectKBest( k=32)\n",
    "kbest_features_logistic_classifier = Pipeline(\n",
    "    steps=[('kbest', kbest), ('logistic', logistic)])"
   ]
  },
  {
   "cell_type": "code",
   "execution_count": 138,
   "metadata": {},
   "outputs": [
    {
     "name": "stdout",
     "output_type": "stream",
     "text": [
      "Logistic Regression using KBest features:\n",
      "             precision    recall  f1-score   support\n",
      "\n",
      "          0       0.74      0.86      0.79       174\n",
      "          1       0.56      0.56      0.56       184\n",
      "          2       0.76      0.83      0.79       166\n",
      "          3       0.72      0.73      0.72       194\n",
      "          4       0.75      0.70      0.72       186\n",
      "          5       0.71      0.74      0.72       181\n",
      "          6       0.89      0.82      0.85       207\n",
      "          7       0.70      0.84      0.76       154\n",
      "          8       0.69      0.52      0.59       182\n",
      "          9       0.64      0.61      0.62       169\n",
      "\n",
      "avg / total       0.72      0.72      0.72      1797\n",
      "\n",
      "\n",
      "Logistic Regression:\n",
      "             precision    recall  f1-score   support\n",
      "\n",
      "          0       0.91      0.94      0.93       174\n",
      "          1       0.69      0.73      0.71       184\n",
      "          2       0.82      0.87      0.85       166\n",
      "          3       0.81      0.77      0.79       194\n",
      "          4       0.84      0.82      0.83       186\n",
      "          5       0.77      0.85      0.81       181\n",
      "          6       0.95      0.91      0.93       207\n",
      "          7       0.86      0.91      0.89       154\n",
      "          8       0.79      0.66      0.72       182\n",
      "          9       0.77      0.76      0.76       169\n",
      "\n",
      "avg / total       0.82      0.82      0.82      1797\n",
      "\n",
      "\n"
     ]
    }
   ],
   "source": [
    "kbest_features_logistic_classifier.fit(X_train, Y_train)\n",
    "\n",
    "Y_pred = kbest_features_logistic_classifier.predict(X_test)\n",
    "print(\"Logistic Regression using KBest features:\\n%s\\n\" % (\n",
    "    metrics.classification_report(Y_test, Y_pred)))\n",
    "logistic.fit(X_train, Y_train)\n",
    "Y_pred = logistic.predict(X_test)\n",
    "print(\"Logistic Regression:\\n%s\\n\" % (\n",
    "    metrics.classification_report(Y_test, Y_pred)))"
   ]
  },
  {
   "cell_type": "code",
   "execution_count": 167,
   "metadata": {},
   "outputs": [
    {
     "name": "stdout",
     "output_type": "stream",
     "text": [
      "rf using RFE features:\n",
      "             precision    recall  f1-score   support\n",
      "\n",
      "          0       0.92      0.91      0.91       174\n",
      "          1       0.84      0.83      0.83       184\n",
      "          2       0.84      0.92      0.88       166\n",
      "          3       0.78      0.77      0.77       194\n",
      "          4       0.86      0.80      0.82       186\n",
      "          5       0.69      0.65      0.67       181\n",
      "          6       0.87      0.84      0.85       207\n",
      "          7       0.82      0.94      0.87       154\n",
      "          8       0.71      0.68      0.69       182\n",
      "          9       0.68      0.72      0.70       169\n",
      "\n",
      "avg / total       0.80      0.80      0.80      1797\n",
      "\n",
      "\n",
      "native rf:\n",
      "             precision    recall  f1-score   support\n",
      "\n",
      "          0       0.98      0.98      0.98       174\n",
      "          1       0.93      0.98      0.96       184\n",
      "          2       0.98      0.99      0.99       166\n",
      "          3       0.96      0.89      0.93       194\n",
      "          4       0.98      0.97      0.98       186\n",
      "          5       0.95      0.93      0.94       181\n",
      "          6       0.99      0.96      0.97       207\n",
      "          7       0.92      1.00      0.96       154\n",
      "          8       0.91      0.91      0.91       182\n",
      "          9       0.95      0.93      0.94       169\n",
      "\n",
      "avg / total       0.95      0.95      0.95      1797\n",
      "\n",
      "\n"
     ]
    }
   ],
   "source": [
    "from sklearn.feature_selection import RFE\n",
    "from sklearn.ensemble import RandomForestClassifier\n",
    "rf=RandomForestClassifier(n_estimators=100, max_depth=10, random_state=0)\n",
    "selector = RFE(rf, 10)\n",
    "selector = selector.fit(X_train, Y_train)\n",
    "Y_pred=selector.predict(X_test)\n",
    "print(\"rf using RFE features:\\n%s\\n\" % (\n",
    "    metrics.classification_report(Y_test, Y_pred)))\n",
    "rf.fit(X_train, Y_train)\n",
    "Y_pred=rf.predict(X_test)\n",
    "print(\"native rf:\\n%s\\n\" % (\n",
    "    metrics.classification_report(Y_test, Y_pred)))"
   ]
  },
  {
   "cell_type": "code",
   "execution_count": 171,
   "metadata": {},
   "outputs": [
    {
     "name": "stdout",
     "output_type": "stream",
     "text": [
      "rf using RFE features:\n",
      "             precision    recall  f1-score   support\n",
      "\n",
      "          0       0.84      0.94      0.89       174\n",
      "          1       0.66      0.70      0.68       184\n",
      "          2       0.76      0.88      0.82       166\n",
      "          3       0.80      0.75      0.77       194\n",
      "          4       0.88      0.80      0.84       186\n",
      "          5       0.75      0.83      0.79       181\n",
      "          6       0.94      0.90      0.92       207\n",
      "          7       0.83      0.90      0.86       154\n",
      "          8       0.77      0.58      0.66       182\n",
      "          9       0.73      0.70      0.72       169\n",
      "\n",
      "avg / total       0.80      0.80      0.80      1797\n",
      "\n",
      "\n",
      "native rf:\n",
      "             precision    recall  f1-score   support\n",
      "\n",
      "          0       0.84      0.94      0.89       174\n",
      "          1       0.66      0.70      0.68       184\n",
      "          2       0.76      0.88      0.82       166\n",
      "          3       0.80      0.75      0.77       194\n",
      "          4       0.88      0.80      0.84       186\n",
      "          5       0.75      0.83      0.79       181\n",
      "          6       0.94      0.90      0.92       207\n",
      "          7       0.83      0.90      0.86       154\n",
      "          8       0.77      0.58      0.66       182\n",
      "          9       0.73      0.70      0.72       169\n",
      "\n",
      "avg / total       0.80      0.80      0.80      1797\n",
      "\n",
      "\n"
     ]
    }
   ],
   "source": [
    "from sklearn.feature_selection import RFE\n",
    "selector = RFE(lsvm, 200) \n",
    "selector = selector.fit(X_train, Y_train)\n",
    "Y_pred=selector.predict(X_test)\n",
    "print(\"rf using RFE features:\\n%s\\n\" % (\n",
    "    metrics.classification_report(Y_test, Y_pred)))\n",
    "rf.fit(X_train, Y_train)\n",
    "Y_pred=lsvm.predict(X_test)\n",
    "print(\"native rf:\\n%s\\n\" % (\n",
    "    metrics.classification_report(Y_test, Y_pred)))"
   ]
  },
  {
   "cell_type": "code",
   "execution_count": null,
   "metadata": {},
   "outputs": [],
   "source": []
  }
 ],
 "metadata": {
  "kernelspec": {
   "display_name": "Python 3",
   "language": "python",
   "name": "python3"
  },
  "language_info": {
   "codemirror_mode": {
    "name": "ipython",
    "version": 3
   },
   "file_extension": ".py",
   "mimetype": "text/x-python",
   "name": "python",
   "nbconvert_exporter": "python",
   "pygments_lexer": "ipython3",
   "version": "3.6.8"
  }
 },
 "nbformat": 4,
 "nbformat_minor": 2
}
